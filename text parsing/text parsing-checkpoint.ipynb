{
 "cells": [
  {
   "cell_type": "code",
   "execution_count": 86,
   "metadata": {},
   "outputs": [],
   "source": [
    "# -*- coding：utf-8 -*-\n",
    "from langconv import *\n",
    "def read_data(content):\n",
    "    #intab定義了把不要的東西\n",
    "    #outlab定義了把不要的東西變成什麼\n",
    "    #str.maketrans 把兩個東西合併成一個dictionary\n",
    "    #在for 迴圈的第一行 把content 的內容translate \n",
    "    #\n",
    "    intab = \"�‘’－'*；＝:）Обществоγῆγίψυχήγο《》（-%”[x{X&]#=}）μαθηματικός/;,abc|def\\\"X<>ghijklmnopqrstuvwsyzABCDEFGHIJKLMNOPQRSTUVWSYZ_()、「.1234567890：」?？※“ 『』〈〉，。\\n！\"\n",
    "    outtab =\"                                                                                                                                                  \"\n",
    "    #print(len(intab))\n",
    "    #print(len(outtab))\n",
    "    trantab = str.maketrans(intab, outtab)\n",
    "    #print(content.translate(trantab))\n",
    "    #print(content.translate(trantab).split(' '))\n",
    "    #print(type(content.translate(trantab).split(' ')))\n",
    "    words=[]\n",
    "    vocabulary=[]\n",
    "    #print(type(words))\n",
    "    for word in content.translate(trantab).split(' '):\n",
    "        if word!='' and word!='\\u3000' and word!='\\ufeff':\n",
    "            #print(word.strip('　'))\n",
    "            if(len(word.strip('　'))!=1 and word.strip('　')!='刪除守則' and word.strip('　')!='根據維基的'  and word.strip('　')!='粗體文字'  and word.strip('　')!='此處插入公式'  and word.strip('　')!='請點擊下麵網址連接' and word.strip('　')!='內容為' and word.strip('　')!='斜體文字' and word.strip('　')!='鏈接標題' and word.strip('　')!='侵犯了版權' and word.strip('　')!='版權聲明文章作者'):\n",
    "            # or word.strip('　')!='根據維基的'  or word.strip('　')!='粗體文字'  or word.strip('　')!='此處插入公式'  or word.strip('　')!='請點擊下麵網址連接'\n",
    "                vocabulary.append(word.strip('　'))\n",
    "    return vocabulary\n",
    "inf = open('wzhwiki-latest-pages-articles.xml',encoding=\"utf8\")\n",
    "c=0\n",
    "#do not change the file below which will lead to data cancelling\n",
    "file = open(\"wiki_text.txt\", \"w\",encoding=\"utf8\")\n",
    "for line in inf:\n",
    "    line = Converter('zh-hant').convert(line)\n",
    "    line=read_data(line)\n",
    "    del line[0:4]\n",
    "    if(len(line) != 0):\n",
    "        del line[-1]\n",
    "    if(len(line)>2):\n",
    "        del(line[1])\n",
    "    #print(line)\n",
    "    for i in line:\n",
    "        file.write(i)\n",
    "        file.write(' ')\n",
    "    \n",
    "file.close()"
   ]
  },
  {
   "cell_type": "code",
   "execution_count": null,
   "metadata": {},
   "outputs": [],
   "source": []
  }
 ],
 "metadata": {
  "kernelspec": {
   "display_name": "Python 3",
   "language": "python",
   "name": "python3"
  },
  "language_info": {
   "codemirror_mode": {
    "name": "ipython",
    "version": 3
   },
   "file_extension": ".py",
   "mimetype": "text/x-python",
   "name": "python",
   "nbconvert_exporter": "python",
   "pygments_lexer": "ipython3",
   "version": "3.6.5"
  }
 },
 "nbformat": 4,
 "nbformat_minor": 2
}
