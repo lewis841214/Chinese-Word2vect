{
 "cells": [
  {
   "cell_type": "code",
   "execution_count": 16,
   "metadata": {},
   "outputs": [
    {
     "ename": "AttributeError",
     "evalue": "'list' object has no attribute 'close'",
     "output_type": "error",
     "traceback": [
      "\u001b[1;31m---------------------------------------------------------------------------\u001b[0m",
      "\u001b[1;31mAttributeError\u001b[0m                            Traceback (most recent call last)",
      "\u001b[1;32m<ipython-input-16-10be34dc3ee6>\u001b[0m in \u001b[0;36m<module>\u001b[1;34m()\u001b[0m\n\u001b[0;32m     21\u001b[0m         \u001b[0md\u001b[0m\u001b[1;33m=\u001b[0m\u001b[0md\u001b[0m\u001b[1;33m+\u001b[0m\u001b[1;36m1\u001b[0m\u001b[1;33m\u001b[0m\u001b[0m\n\u001b[0;32m     22\u001b[0m         \u001b[0mc\u001b[0m\u001b[1;33m=\u001b[0m\u001b[1;36m0\u001b[0m\u001b[1;33m\u001b[0m\u001b[0m\n\u001b[1;32m---> 23\u001b[1;33m \u001b[0mfilew\u001b[0m\u001b[1;33m.\u001b[0m\u001b[0mclose\u001b[0m\u001b[1;33m(\u001b[0m\u001b[1;33m)\u001b[0m\u001b[1;33m\u001b[0m\u001b[0m\n\u001b[0m\u001b[0;32m     24\u001b[0m \u001b[1;33m\u001b[0m\u001b[0m\n\u001b[0;32m     25\u001b[0m \u001b[1;33m\u001b[0m\u001b[0m\n",
      "\u001b[1;31mAttributeError\u001b[0m: 'list' object has no attribute 'close'"
     ]
    }
   ],
   "source": [
    "#wiki_text_with_non_utf8_characters.txt\n",
    "\n",
    "file = open(\"wiki_text_with_non_utf8_characters.txt\", \"r\",encoding=\"utf8\")\n",
    "#filew = open(\"wiki_text_with_only_utf8_characters.txt\", \"w\",encoding=\"utf8\")\n",
    "filew=[]\n",
    "for i in range(13):\n",
    "    filew.append( open(\"./data/wiki_text_with_only_utf8_characters_%d.txt\"% ( i), \"w\",encoding=\"utf8\"))\n",
    "c=0\n",
    "d=0\n",
    "k=5000000\n",
    "\n",
    "for line in file:      \n",
    "    c=c+1\n",
    "    if(c<k):\n",
    "        line=line.encode(\"utf-8\").decode('utf-8','ignore')\n",
    "        for i in line:\n",
    "            filew[d].write(i)\n",
    "            #print(i)\n",
    "        filew[d].write('\\n')\n",
    "    else:\n",
    "        d=d+1\n",
    "        c=0\n",
    "filew.close()\n",
    "\n",
    "\n",
    "    "
   ]
  },
  {
   "cell_type": "code",
   "execution_count": null,
   "metadata": {},
   "outputs": [],
   "source": []
  }
 ],
 "metadata": {
  "kernelspec": {
   "display_name": "Python 3",
   "language": "python",
   "name": "python3"
  },
  "language_info": {
   "codemirror_mode": {
    "name": "ipython",
    "version": 3
   },
   "file_extension": ".py",
   "mimetype": "text/x-python",
   "name": "python",
   "nbconvert_exporter": "python",
   "pygments_lexer": "ipython3",
   "version": "3.6.5"
  }
 },
 "nbformat": 4,
 "nbformat_minor": 2
}
