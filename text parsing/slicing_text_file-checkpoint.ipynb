{
 "cells": [
  {
   "cell_type": "code",
   "execution_count": null,
   "metadata": {},
   "outputs": [],
   "source": [
    "#wiki_text_with_non_utf8_characters.txt\n",
    "\n",
    "file = open(\"wiki_text_with_non_utf8_characters.txt\", \"r\",encoding=\"utf8\")\n",
    "#filew = open(\"wiki_text_with_only_utf8_characters.txt\", \"w\",encoding=\"utf8\")\n",
    "filew=[]\n",
    "c=0\n",
    "k=100000\n",
    "for line in file:\n",
    "    if(c<k):\n",
    "        line=line.encode(\"utf-8\").decode('utf-8','ignore')\n",
    "        for i in line:\n",
    "            filew.write(i)\n",
    "            print(i)\n",
    "        filew.write('\\n')\n",
    "filew.close()\n",
    "    "
   ]
  }
 ],
 "metadata": {
  "kernelspec": {
   "display_name": "Python 3",
   "language": "python",
   "name": "python3"
  },
  "language_info": {
   "codemirror_mode": {
    "name": "ipython",
    "version": 3
   },
   "file_extension": ".py",
   "mimetype": "text/x-python",
   "name": "python",
   "nbconvert_exporter": "python",
   "pygments_lexer": "ipython3",
   "version": "3.6.5"
  }
 },
 "nbformat": 4,
 "nbformat_minor": 2
}
